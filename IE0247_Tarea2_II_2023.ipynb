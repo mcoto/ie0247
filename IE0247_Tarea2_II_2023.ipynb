{
  "cells": [
    {
      "cell_type": "markdown",
      "metadata": {
        "id": "view-in-github",
        "colab_type": "text"
      },
      "source": [
        "<a href=\"https://colab.research.google.com/github/mcoto/ie0247/blob/main/IE0247_Tarea2_II_2023.ipynb\" target=\"_parent\"><img src=\"https://colab.research.google.com/assets/colab-badge.svg\" alt=\"Open In Colab\"/></a>"
      ]
    },
    {
      "cell_type": "markdown",
      "source": [
        "# Serie de Fourier de una función cuadrada"
      ],
      "metadata": {
        "id": "CIY0GirSAlp3"
      }
    },
    {
      "cell_type": "code",
      "execution_count": null,
      "metadata": {
        "id": "abgNvW4QAToG"
      },
      "outputs": [],
      "source": [
        "import matplotlib.pyplot as plt\n",
        "from numpy import pi,sin,linspace,zeros,arange,cos\n",
        "from ipywidgets import interact\n",
        "%matplotlib inline"
      ]
    },
    {
      "cell_type": "markdown",
      "metadata": {
        "id": "G2Ln4WTxAToV"
      },
      "source": [
        "**La Serie de Fourier de una función cuadrada como la que se muestra a continuación:**\n",
        "\n",
        "![original_3.1_22nd.png](data:image/png;base64,iVBORw0KGgoAAAANSUhEUgAAAWYAAAExCAYAAABPrQhZAAAACXBIWXMAAAsSAAALEgHS3X78AAALjklEQVR4nO3dvXJcR37G4f67lFu4AmmxN7AuKre2isyVUDEjMXVGhg6hyE6pxFRKJnIsVO06J8ryBejrBiTtFbSrwR7pcAoEQXAGfA/meapQAjDDwfnCb/r0HIyq994AyPFP9gVAFmHmtarqTlWdXHR7Vd2vqi9sPdg9YeYyz1prZ+2PEH+/uO/4/pOqOrYFYbeEmQuNEI/v996fz9uP50eb3/+htTZue2QLwm4J84EaI92q+qWqzsNaVUdjRFxVT+YWGWE+nbeN+5zMz3tVfTvv83zeD9ghYT5Qc8T7eAR3zCVvwju/N9zZTGPMAH81P7+3uM+4/ch0BuzWB7bn4eq9fzWnLJ7NaYp7vfdf5wYZX494n0e8qjafn2422Pz+K/cF3p0RM1/OsJ4towu8P8LMyZxLvrN5wW8aI+ejy7bOmJeenxotww4J8wGb1yiP0fLncw55efnb2fIqjBnqzWVzm++PeejNfDWwI8J8oOYLfuNqi4dzXvnxjO/mqozTrSsuns/vjfnozR+W3N1cuQHsjvfK4EJzmuKX1tonvfez19xn3P75deamq+pBeznafmoPwKuEmdea1y/f7b3f277PZbddRVV9116G+S/2ALxKmLlxVfVpa+1v8+f+tff+d3sB/mCOmffhweJnPrAH4FVGzNyoqvq4tfbj1s/8U+/9J3sCXjJi5qZdNEI2aoYFI2ZuVFWNkfFHWz/z5977x/YEvGTEzI2Zl8htR3n4aHP5HCDM3KzL4ivMMJnK4EZU1bhe+X/f8LP+pff+nT3CoTNi5qb82xV+zlXuA7eeETN7V1UfttbGi37//Iaf9Y/W2se999/sFQ6ZETM34cEVotzmfcw1c/CMmNm711wi9zounePgGTGzV1X12VtEuc1L5z6zVzhkwsy+bU9NfD3euGjx9V/n95ZMZ3DQTGWwN4v3xfi5tTbed/np5j0xqur8wOu9V/vjvg/mx0feP4NDJszszZyS+PCiN8PfDvPWbSPOv/Xev7F3OETCzHtxWZjh0JljBggjzABhhBkgjDADhBFmgDDCDBBGmAHCCDNAGGEGCCPMAGGEGSCMMAOEEWaAMMIMEEaYAcIIM0AYYQYII8wAYYQZIIwwA4QRZoAwwgwQRpgBwggzQBhhBggjzABhhBkgjDADhBFmgDDCDBBGmAHCCDNAGGEGCCPMAGGEGSCMMAOEEWaAMMIMEEaYAcIIM0CYD+wQblJVfWqD56iqflvWpfdeAYuxE9X7rdkvr+Xgy3Gb9kVb+f6wL3IZMa/M+GW6TQcg75/jKc9BhdloM89a98lt3Bfk8OIfQBhhBggjzABhhBkgjDADhBFmgDDCDBBGmAHCCDNAGGEGCCPMAGGEGSCMMAOEEWaAMMIMEEaYAcIIM0AYYQYII8wAYYQZIIwwA4QRZoAwwgwQRpgBwggzQBhhBggjzABhhBkgjDADhBFmgDDCDBBGmAHCCDNAGGEGCCPMAGGEGSCMMAOEEWaAMMIMEEaYAcIIM0AYYQYII8wAYYQZIIwwA4QRZoAwwgwQRpgBwggzQBhhBggjzABhhBkgjDADhBFmgDDCDBBGmAHCCDNAGGEGCCPMAGGEGSCMMAOEEWaAMMIMEEaYAcIIM0AYYQYII8wAYYQZIIwwA4QRZoAwwgwQRpgBwggzQBhhBggjzABhhBkgjDADhBFmgDDCDBBGmAHCCDNAGGEGCCPMAGGEGSCMMAOEEWaAMMIMEEaYAcIIM0AYYQbYkar6rKo+ftdHE2aA3fmwtfZjVX0zIn3dR63e+63fJ1V1vpK993r/S3N9t2E9NuuwsdZ1uU37Yu2/F2mq6qfW2kdzsX5urf1na+1p7/23qy6qETPAbj1dPNoI9H+01n6qqqdV9Zer/CQj5hUxYs5hxMwl23XMMf94yV3+Z46gn77uDkbMADvUex9TGV9f8oj/2lr7rzHlUVX/ftGLhUbMK2LEnMOImTds209ba397i4309RxF//3834/9YgsDRPi/8WKhqQyAMKYyVsRURg5TGbxh277TVMYHti7Azj24wgP+PC+tezpfMPydEfOKGDHnMGLmku36zpfLGTED7NZFo+V/tNa+GS/s9d6/e9NPE2aA3VqG+Vp/ki3MADtSVQ/mn2H/94zxN9d5ZGEG2J0xKv7T9ot5b2tV1zFX1RfjBYuquh+wONdWVcdV9WyuS5+fH610dc5V1d2q+n6uz7drX593cRv375pV1Z2qOtnVKozHGo950W1jhPyuUW4rfK+MR/O/az/I77bWfm2t3WutfT6/fhKwXNcyD9JvW2vP5zodt9aerXBVduVW7d+1GAO2MTi4YHHHsXi2w9X4Yd/H92qmMqrq0TzYV6/3/tXWut1ZPOms0RfjYO29P57rM/47Rol3eu+7/IVYhdu0f8dZ6nxS+bz3/jxgkS5zPD9+tzm73uWyj/07ejQee1/bZBUj5nkaOA7sxwGLsy9rftIZI8LTxdebzy883TtQq9u/8/duMwUQfZY6B24n8/Pz6bR50/3lsTlvG1F9MT9/Maeeniy/Xj5uVf0yP5ZPrqfzsfdiLVMZY4Of9d5Pr3DfNbo/pwHW6nie3p3rvW8iZF71pbXu3ydbT7jJxvbdnKncWwzi7lwwjTEC++W83zhGv1/8u6PNtNN43WS25+Gcklo+ztk+Bx4RUxlzA2z8ujz9nc9e43Tqk/e2gG9pnrr+HqXLnlDmixJH80Dhllnr/p2/k+MJ5c/7HBnuSu/9h6o6Hxxs/b69MmiYvtpMQVTV+O+j3vvD5ddb9z+6YMrih+1pk11KmWP+dvH56Xzm2jiZz05Hi4CPU4/jsTNuflGv5GSe3m9c+Cevc/7r0Zy/S12Xq3jlIF1cgbDmdXpnK9+/Y9T4eAYvYHF2ajmttD3F9PvXI/Dz9ZKT+QT78Kbm2SPC/Ia/1d88Wy/j/WiOQh7uedGupfd+703/bj7JPJsH/5qnMdp84lw+Ed1dfP8grXn/zgiNM9fbcBb367tMqc1t8OWcs36ymJI62ufrBvFXZWxHe77xysPtV77XZPFLO84OzhZnAmeL+dk1GQfvi/kLfTrPGE5XfhZwbWvev4srSB5vTTGmn6W2TSjnmcrZXNaz6045zG1xvAjwct8d73XgMd5dbk0f8/+4cv9tlnn+m56ynvPFhn7Bx901rcfWso1fhl/mMj6b83KvXYfkdbni+r52+a+7fxPWYUb5omUfH0/C98nRPLMeX5ws1ufF1jo/2l7fi77eOqZfjBgv7vdi+Ti7/vC2nyvibT9zHNLbfq75LHW+3jHi+smurqlf/EHVn/d1BuR/LQVcxSqvs5/hfLy4HnsXxmN9uc9pKSPmFTFizuGN8tknI2aAMMIMEEaYAcIIM0AYYQYII8wAYYQZIIwwA4QRZoAwwgwQRpgBwggzQBhhBggjzABhhBkgjDADhBFmgDDCDBBGmAHCCDNAGGEGCCPMAGGEGSCMMAOEEWaAMMIMEEaYAcIIM0AYYQYII8wAYYQZIIwwA4QRZoAwwgwQRpgBwggzQBhhBggjzABhhBkgjDADhBFmgDDCDBBGmAHCCDNAGGEGCCPMAGGEGSCMMAOEEWaAMMIMEEaYAcIIM0AYYQYII8wAYYQZIIwwA4QRZoAwwgwQRpgBwggzQBhhBggjzABhhBkgjDADhBFmgDDCDBDmAztkfaqqH/o2SGFfsA+XhtlBB3DzjJhXpPdet2Vd1v6kf5v2BXkuDbODD+DmefEPIIwwA4QRZoAwwgwQRpgBwggzQBhhBggjzABhhBkgjDADhBFmgDDCDBBGmAHCCDNAGGEGCCPMAGGEGSCMMAOEEWaAMMIMEEaYAcIIM0AYYQYII8wAYYQZIIwwA4QRZoAwwgwQRpgBwggzQBhhBggjzABhhBkgjDADhBFmgDDCDBBGmAHCCDNAGGEGCCPMAGGEGSCMMAMkaa39PySmynQUs8ADAAAAAElFTkSuQmCC)\n",
        "\n",
        "\n",
        "es:\n",
        "\n",
        "\n",
        "$$f(t) = \\frac{4}{\\pi} \\sum^\\infty_{n=impar} \\frac{1}{n}\\sin \\left(\\frac{n\\pi t}{L} \\right)$$\n",
        "\n",
        "Donde $L$ es la mitad del periodo. En el siguiente código se muestra la forma de comprobar la convergencia de esta suma."
      ]
    },
    {
      "cell_type": "code",
      "execution_count": null,
      "metadata": {
        "collapsed": true,
        "id": "5qIJjCxXAToZ"
      },
      "outputs": [],
      "source": [
        "def square_wave(N = 1,L = 5,num_points = 200):\n",
        "    x = linspace(-4*pi,4*pi,num_points)\n",
        "    y = zeros(num_points)\n",
        "    for n in arange(1,N+1,2):\n",
        "        y = y + (1.0/n * sin(n*pi*x/L))\n",
        "    y = y * 4.0/pi\n",
        "    plt.plot(x,y)"
      ]
    },
    {
      "cell_type": "code",
      "execution_count": null,
      "metadata": {
        "scrolled": true,
        "colab": {
          "base_uri": "https://localhost:8080/",
          "height": 265
        },
        "id": "s74jUnjkAToc",
        "outputId": "2cc0beff-f648-44a6-f2ff-73f109750198"
      },
      "outputs": [
        {
          "output_type": "display_data",
          "data": {
            "text/plain": [
              "<Figure size 432x288 with 1 Axes>"
            ],
            "image/png": "[encoded data removed]"
          },
          "metadata": {
            "needs_background": "light"
          }
        }
      ],
      "source": [
        "square_wave(N=5,L=5)"
      ]
    },
    {
      "cell_type": "markdown",
      "metadata": {
        "id": "baJ7T2AzATod"
      },
      "source": [
        "Versión interactiva del código anterior:"
      ]
    },
    {
      "cell_type": "code",
      "execution_count": null,
      "metadata": {
        "colab": {
          "base_uri": "https://localhost:8080/",
          "height": 379,
          "referenced_widgets": [
            "d88a135bff1b42f8b6c15aad21f4203b",
            "42b2c143523c4abe8050e6969f1ec97f",
            "928ef09a4ef241d68d3600aa3174c4e3",
            "ef51a27a8197491d82ea1c2c21871636",
            "e16d7a47215c41a4b4af3fba71063763",
            "3e6d287d43bb492ba64e806ce26e0206",
            "9d6c9c8dab244aa7ab2351d4fb34c9e2",
            "2150676f0e894dd897b8c0f3946e187d",
            "9a050ea44aec46fda11713a806825a6f",
            "50acbfdc399e4b629d5828c00344e1cf",
            "2a698a96effc4164bc24d4b898b5bb90",
            "c010d5ca38f14b6d96086ed5a189ede6",
            "b3e23f5a393c4639a27085a613975bc9"
          ]
        },
        "id": "5sthV1QtATod",
        "outputId": "a7492a1e-e2d6-4131-a55c-c1b7ac362b3f"
      },
      "outputs": [
        {
          "output_type": "display_data",
          "data": {
            "text/plain": [
              "interactive(children=(IntSlider(value=1, description='N', max=50, min=1, step=2), IntSlider(value=5, descripti…"
            ],
            "application/vnd.jupyter.widget-view+json": {
              "version_major": 2,
              "version_minor": 0,
              "model_id": "d88a135bff1b42f8b6c15aad21f4203b"
            }
          },
          "metadata": {}
        },
        {
          "output_type": "execute_result",
          "data": {
            "text/plain": [
              "<function __main__.square_wave(N=1, L=5, num_points=200)>"
            ]
          },
          "metadata": {},
          "execution_count": 8
        }
      ],
      "source": [
        "interact(square_wave,N=(1,50,2),L=5,points=200)"
      ]
    },
    {
      "cell_type": "code",
      "execution_count": null,
      "metadata": {
        "collapsed": true,
        "id": "THp-EbfmAToe"
      },
      "outputs": [],
      "source": []
    }
  ],
  "metadata": {
    "kernelspec": {
      "display_name": "Python 3",
      "language": "python",
      "name": "python3"
    },
    "language_info": {
      "codemirror_mode": {
        "name": "ipython",
        "version": 3
      },
      "file_extension": ".py",
      "mimetype": "text/x-python",
      "name": "python",
      "nbconvert_exporter": "python",
      "pygments_lexer": "ipython3",
      "version": "3.4.3+"
    },
    "name": "Fourier Series.ipynb",
    "colab": {
      "provenance": [],
      "include_colab_link": true
    },
    "widgets": {
      "application/vnd.jupyter.widget-state+json": {
        "d88a135bff1b42f8b6c15aad21f4203b": {
          "model_module": "@jupyter-widgets/controls",
          "model_name": "VBoxModel",
          "model_module_version": "1.5.0",
          "state": {
            "_dom_classes": [
              "widget-interact"
            ],
            "_model_module": "@jupyter-widgets/controls",
            "_model_module_version": "1.5.0",
            "_model_name": "VBoxModel",
            "_view_count": null,
            "_view_module": "@jupyter-widgets/controls",
            "_view_module_version": "1.5.0",
            "_view_name": "VBoxView",
            "box_style": "",
            "children": [
              "IPY_MODEL_42b2c143523c4abe8050e6969f1ec97f",
              "IPY_MODEL_928ef09a4ef241d68d3600aa3174c4e3",
              "IPY_MODEL_ef51a27a8197491d82ea1c2c21871636",
              "IPY_MODEL_e16d7a47215c41a4b4af3fba71063763"
            ],
            "layout": "IPY_MODEL_3e6d287d43bb492ba64e806ce26e0206"
          }
        },
        "42b2c143523c4abe8050e6969f1ec97f": {
          "model_module": "@jupyter-widgets/controls",
          "model_name": "IntSliderModel",
          "model_module_version": "1.5.0",
          "state": {
            "_dom_classes": [],
            "_model_module": "@jupyter-widgets/controls",
            "_model_module_version": "1.5.0",
            "_model_name": "IntSliderModel",
            "_view_count": null,
            "_view_module": "@jupyter-widgets/controls",
            "_view_module_version": "1.5.0",
            "_view_name": "IntSliderView",
            "continuous_update": true,
            "description": "N",
            "description_tooltip": null,
            "disabled": false,
            "layout": "IPY_MODEL_9d6c9c8dab244aa7ab2351d4fb34c9e2",
            "max": 50,
            "min": 1,
            "orientation": "horizontal",
            "readout": true,
            "readout_format": "d",
            "step": 2,
            "style": "IPY_MODEL_2150676f0e894dd897b8c0f3946e187d",
            "value": 17
          }
        },
        "928ef09a4ef241d68d3600aa3174c4e3": {
          "model_module": "@jupyter-widgets/controls",
          "model_name": "IntSliderModel",
          "model_module_version": "1.5.0",
          "state": {
            "_dom_classes": [],
            "_model_module": "@jupyter-widgets/controls",
            "_model_module_version": "1.5.0",
            "_model_name": "IntSliderModel",
            "_view_count": null,
            "_view_module": "@jupyter-widgets/controls",
            "_view_module_version": "1.5.0",
            "_view_name": "IntSliderView",
            "continuous_update": true,
            "description": "L",
            "description_tooltip": null,
            "disabled": false,
            "layout": "IPY_MODEL_9a050ea44aec46fda11713a806825a6f",
            "max": 15,
            "min": -5,
            "orientation": "horizontal",
            "readout": true,
            "readout_format": "d",
            "step": 1,
            "style": "IPY_MODEL_50acbfdc399e4b629d5828c00344e1cf",
            "value": 5
          }
        },
        "ef51a27a8197491d82ea1c2c21871636": {
          "model_module": "@jupyter-widgets/controls",
          "model_name": "IntSliderModel",
          "model_module_version": "1.5.0",
          "state": {
            "_dom_classes": [],
            "_model_module": "@jupyter-widgets/controls",
            "_model_module_version": "1.5.0",
            "_model_name": "IntSliderModel",
            "_view_count": null,
            "_view_module": "@jupyter-widgets/controls",
            "_view_module_version": "1.5.0",
            "_view_name": "IntSliderView",
            "continuous_update": true,
            "description": "num_points",
            "description_tooltip": null,
            "disabled": false,
            "layout": "IPY_MODEL_2a698a96effc4164bc24d4b898b5bb90",
            "max": 600,
            "min": -200,
            "orientation": "horizontal",
            "readout": true,
            "readout_format": "d",
            "step": 1,
            "style": "IPY_MODEL_c010d5ca38f14b6d96086ed5a189ede6",
            "value": 200
          }
        },
        "e16d7a47215c41a4b4af3fba71063763": {
          "model_module": "@jupyter-widgets/output",
          "model_name": "OutputModel",
          "model_module_version": "1.0.0",
          "state": {
            "_dom_classes": [],
            "_model_module": "@jupyter-widgets/output",
            "_model_module_version": "1.0.0",
            "_model_name": "OutputModel",
            "_view_count": null,
            "_view_module": "@jupyter-widgets/output",
            "_view_module_version": "1.0.0",
            "_view_name": "OutputView",
            "layout": "IPY_MODEL_b3e23f5a393c4639a27085a613975bc9",
            "msg_id": "",
            "outputs": [
              {
                "output_type": "display_data",
                "data": {
                  "text/plain": "<Figure size 432x288 with 1 Axes>",
                  "image/png": "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\n"
                },
                "metadata": {
                  "needs_background": "light"
                }
              }
            ]
          }
        },
        "3e6d287d43bb492ba64e806ce26e0206": {
          "model_module": "@jupyter-widgets/base",
          "model_name": "LayoutModel",
          "model_module_version": "1.2.0",
          "state": {
            "_model_module": "@jupyter-widgets/base",
            "_model_module_version": "1.2.0",
            "_model_name": "LayoutModel",
            "_view_count": null,
            "_view_module": "@jupyter-widgets/base",
            "_view_module_version": "1.2.0",
            "_view_name": "LayoutView",
            "align_content": null,
            "align_items": null,
            "align_self": null,
            "border": null,
            "bottom": null,
            "display": null,
            "flex": null,
            "flex_flow": null,
            "grid_area": null,
            "grid_auto_columns": null,
            "grid_auto_flow": null,
            "grid_auto_rows": null,
            "grid_column": null,
            "grid_gap": null,
            "grid_row": null,
            "grid_template_areas": null,
            "grid_template_columns": null,
            "grid_template_rows": null,
            "height": null,
            "justify_content": null,
            "justify_items": null,
            "left": null,
            "margin": null,
            "max_height": null,
            "max_width": null,
            "min_height": null,
            "min_width": null,
            "object_fit": null,
            "object_position": null,
            "order": null,
            "overflow": null,
            "overflow_x": null,
            "overflow_y": null,
            "padding": null,
            "right": null,
            "top": null,
            "visibility": null,
            "width": null
          }
        },
        "9d6c9c8dab244aa7ab2351d4fb34c9e2": {
          "model_module": "@jupyter-widgets/base",
          "model_name": "LayoutModel",
          "model_module_version": "1.2.0",
          "state": {
            "_model_module": "@jupyter-widgets/base",
            "_model_module_version": "1.2.0",
            "_model_name": "LayoutModel",
            "_view_count": null,
            "_view_module": "@jupyter-widgets/base",
            "_view_module_version": "1.2.0",
            "_view_name": "LayoutView",
            "align_content": null,
            "align_items": null,
            "align_self": null,
            "border": null,
            "bottom": null,
            "display": null,
            "flex": null,
            "flex_flow": null,
            "grid_area": null,
            "grid_auto_columns": null,
            "grid_auto_flow": null,
            "grid_auto_rows": null,
            "grid_column": null,
            "grid_gap": null,
            "grid_row": null,
            "grid_template_areas": null,
            "grid_template_columns": null,
            "grid_template_rows": null,
            "height": null,
            "justify_content": null,
            "justify_items": null,
            "left": null,
            "margin": null,
            "max_height": null,
            "max_width": null,
            "min_height": null,
            "min_width": null,
            "object_fit": null,
            "object_position": null,
            "order": null,
            "overflow": null,
            "overflow_x": null,
            "overflow_y": null,
            "padding": null,
            "right": null,
            "top": null,
            "visibility": null,
            "width": null
          }
        },
        "2150676f0e894dd897b8c0f3946e187d": {
          "model_module": "@jupyter-widgets/controls",
          "model_name": "SliderStyleModel",
          "model_module_version": "1.5.0",
          "state": {
            "_model_module": "@jupyter-widgets/controls",
            "_model_module_version": "1.5.0",
            "_model_name": "SliderStyleModel",
            "_view_count": null,
            "_view_module": "@jupyter-widgets/base",
            "_view_module_version": "1.2.0",
            "_view_name": "StyleView",
            "description_width": "",
            "handle_color": null
          }
        },
        "9a050ea44aec46fda11713a806825a6f": {
          "model_module": "@jupyter-widgets/base",
          "model_name": "LayoutModel",
          "model_module_version": "1.2.0",
          "state": {
            "_model_module": "@jupyter-widgets/base",
            "_model_module_version": "1.2.0",
            "_model_name": "LayoutModel",
            "_view_count": null,
            "_view_module": "@jupyter-widgets/base",
            "_view_module_version": "1.2.0",
            "_view_name": "LayoutView",
            "align_content": null,
            "align_items": null,
            "align_self": null,
            "border": null,
            "bottom": null,
            "display": null,
            "flex": null,
            "flex_flow": null,
            "grid_area": null,
            "grid_auto_columns": null,
            "grid_auto_flow": null,
            "grid_auto_rows": null,
            "grid_column": null,
            "grid_gap": null,
            "grid_row": null,
            "grid_template_areas": null,
            "grid_template_columns": null,
            "grid_template_rows": null,
            "height": null,
            "justify_content": null,
            "justify_items": null,
            "left": null,
            "margin": null,
            "max_height": null,
            "max_width": null,
            "min_height": null,
            "min_width": null,
            "object_fit": null,
            "object_position": null,
            "order": null,
            "overflow": null,
            "overflow_x": null,
            "overflow_y": null,
            "padding": null,
            "right": null,
            "top": null,
            "visibility": null,
            "width": null
          }
        },
        "50acbfdc399e4b629d5828c00344e1cf": {
          "model_module": "@jupyter-widgets/controls",
          "model_name": "SliderStyleModel",
          "model_module_version": "1.5.0",
          "state": {
            "_model_module": "@jupyter-widgets/controls",
            "_model_module_version": "1.5.0",
            "_model_name": "SliderStyleModel",
            "_view_count": null,
            "_view_module": "@jupyter-widgets/base",
            "_view_module_version": "1.2.0",
            "_view_name": "StyleView",
            "description_width": "",
            "handle_color": null
          }
        },
        "2a698a96effc4164bc24d4b898b5bb90": {
          "model_module": "@jupyter-widgets/base",
          "model_name": "LayoutModel",
          "model_module_version": "1.2.0",
          "state": {
            "_model_module": "@jupyter-widgets/base",
            "_model_module_version": "1.2.0",
            "_model_name": "LayoutModel",
            "_view_count": null,
            "_view_module": "@jupyter-widgets/base",
            "_view_module_version": "1.2.0",
            "_view_name": "LayoutView",
            "align_content": null,
            "align_items": null,
            "align_self": null,
            "border": null,
            "bottom": null,
            "display": null,
            "flex": null,
            "flex_flow": null,
            "grid_area": null,
            "grid_auto_columns": null,
            "grid_auto_flow": null,
            "grid_auto_rows": null,
            "grid_column": null,
            "grid_gap": null,
            "grid_row": null,
            "grid_template_areas": null,
            "grid_template_columns": null,
            "grid_template_rows": null,
            "height": null,
            "justify_content": null,
            "justify_items": null,
            "left": null,
            "margin": null,
            "max_height": null,
            "max_width": null,
            "min_height": null,
            "min_width": null,
            "object_fit": null,
            "object_position": null,
            "order": null,
            "overflow": null,
            "overflow_x": null,
            "overflow_y": null,
            "padding": null,
            "right": null,
            "top": null,
            "visibility": null,
            "width": null
          }
        },
        "c010d5ca38f14b6d96086ed5a189ede6": {
          "model_module": "@jupyter-widgets/controls",
          "model_name": "SliderStyleModel",
          "model_module_version": "1.5.0",
          "state": {
            "_model_module": "@jupyter-widgets/controls",
            "_model_module_version": "1.5.0",
            "_model_name": "SliderStyleModel",
            "_view_count": null,
            "_view_module": "@jupyter-widgets/base",
            "_view_module_version": "1.2.0",
            "_view_name": "StyleView",
            "description_width": "",
            "handle_color": null
          }
        },
        "b3e23f5a393c4639a27085a613975bc9": {
          "model_module": "@jupyter-widgets/base",
          "model_name": "LayoutModel",
          "model_module_version": "1.2.0",
          "state": {
            "_model_module": "@jupyter-widgets/base",
            "_model_module_version": "1.2.0",
            "_model_name": "LayoutModel",
            "_view_count": null,
            "_view_module": "@jupyter-widgets/base",
            "_view_module_version": "1.2.0",
            "_view_name": "LayoutView",
            "align_content": null,
            "align_items": null,
            "align_self": null,
            "border": null,
            "bottom": null,
            "display": null,
            "flex": null,
            "flex_flow": null,
            "grid_area": null,
            "grid_auto_columns": null,
            "grid_auto_flow": null,
            "grid_auto_rows": null,
            "grid_column": null,
            "grid_gap": null,
            "grid_row": null,
            "grid_template_areas": null,
            "grid_template_columns": null,
            "grid_template_rows": null,
            "height": null,
            "justify_content": null,
            "justify_items": null,
            "left": null,
            "margin": null,
            "max_height": null,
            "max_width": null,
            "min_height": null,
            "min_width": null,
            "object_fit": null,
            "object_position": null,
            "order": null,
            "overflow": null,
            "overflow_x": null,
            "overflow_y": null,
            "padding": null,
            "right": null,
            "top": null,
            "visibility": null,
            "width": null
          }
        }
      }
    }
  },
  "nbformat": 4,
  "nbformat_minor": 0
}