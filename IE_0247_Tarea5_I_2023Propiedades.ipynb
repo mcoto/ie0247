{
  "cells": [
    {
      "cell_type": "markdown",
      "metadata": {
        "id": "view-in-github",
        "colab_type": "text"
      },
      "source": [
        "<a href=\"https://colab.research.google.com/github/mcoto/ie0247/blob/main/IE_0247_Tarea5_I_2023Propiedades.ipynb\" target=\"_parent\"><img src=\"https://colab.research.google.com/assets/colab-badge.svg\" alt=\"Open In Colab\"/></a>"
      ]
    },
    {
      "cell_type": "markdown",
      "metadata": {
        "nbsphinx": "hidden",
        "id": "uLEYtvun4aet"
      },
      "source": [
        "# La Transformada Discreta de Fourier\n"
      ]
    },
    {
      "cell_type": "markdown",
      "metadata": {
        "id": "sLjVqEOO4aex"
      },
      "source": [
        "## Propiedades\n",
        "\n",
        "Se mostrarán algunas de las propiedades que se pueden establecer sobre la DFT:"
      ]
    },
    {
      "cell_type": "markdown",
      "metadata": {
        "id": "qFXMBE1Y4aey"
      },
      "source": [
        "### Transformada y su inversa.\n",
        "\n",
        "La señal discreta $x[n]$ puede recuperarse a partir de su DFT $X[\\omega] = \\text{DFT}_N \\{ x[n] \\}$ utilizando transformación inversa (IDFT).\n",
        "\n",
        "\\begin{equation}\n",
        "x(n) = \\text{IDFT}_N \\left{\\text{DFT}_N \\{ x[n] \\} \\derecha}\n",
        "\\fin{equation}\n",
        "\n",
        "para $n=0,1, \\dots, N-1$. "
      ]
    },
    {
      "cell_type": "markdown",
      "metadata": {
        "id": "zuxmRC1_4ae1"
      },
      "source": [
        "**Ejemplo 1**\n",
        "\n",
        "La invertibilidad de la DFT se ilustra en el siguiente ejemplo con una señal rectangular $x(n) = \\text{rect}_M[n]$. La señal $x(n)$, su espectro de magnitud $|X[\\omega]|$ así como la IDFT del espectro $\\text{IDFT} \\X[\\omega] \\}$. "
      ]
    },
    {
      "cell_type": "code",
      "execution_count": null,
      "metadata": {
        "colab": {
          "base_uri": "https://localhost:8080/",
          "height": 353
        },
        "id": "2AY-Y5fg4ae2",
        "outputId": "d7e475cb-0326-4f75-a5bd-17809e990ba9"
      },
      "outputs": [
        {
          "output_type": "stream",
          "name": "stderr",
          "text": [
            "<ipython-input-34-1457e1285ee2>:23: UserWarning: In Matplotlib 3.3 individual lines on a stem plot will be added as a LineCollection instead of individual lines. This significantly improves the performance of a stem plot. To remove this warning and switch to the new behaviour, set the \"use_line_collection\" keyword argument to True.\n",
            "  plt.stem(x)\n",
            "<ipython-input-34-1457e1285ee2>:29: UserWarning: In Matplotlib 3.3 individual lines on a stem plot will be added as a LineCollection instead of individual lines. This significantly improves the performance of a stem plot. To remove this warning and switch to the new behaviour, set the \"use_line_collection\" keyword argument to True.\n",
            "  plt.stem(abs(X))\n",
            "<ipython-input-34-1457e1285ee2>:34: UserWarning: In Matplotlib 3.3 individual lines on a stem plot will be added as a LineCollection instead of individual lines. This significantly improves the performance of a stem plot. To remove this warning and switch to the new behaviour, set the \"use_line_collection\" keyword argument to True.\n",
            "  plt.stem(np.real(xr))\n"
          ]
        },
        {
          "output_type": "display_data",
          "data": {
            "text/plain": [
              "<Figure size 720x216 with 3 Axes>"
            ],
            "image/png": "[encoded data removed]"
          },
          "metadata": {
            "needs_background": "light"
          }
        }
      ],
      "source": [
        "import numpy as np\n",
        "import matplotlib.pyplot as plt\n",
        "from scipy.linalg import dft\n",
        "%matplotlib inline\n",
        "\n",
        "\n",
        "def rect(k, N):\n",
        "    return np.where((0 <= k) & (k < N), 1.0, 0.0)\n",
        "\n",
        "\n",
        "N = 16\n",
        "M = 5\n",
        "\n",
        "F = dft(N)\n",
        "IF = 1/N*np.conjugate(np.transpose(F))\n",
        "k = np.arange(N)\n",
        "x = rect(k, M)\n",
        "X = np.matmul(F, x)\n",
        "xr = np.matmul(IF, X)\n",
        "\n",
        "plt.figure(figsize=(10, 3))\n",
        "plt.subplot(1, 3, 1)\n",
        "plt.stem(x)\n",
        "plt.xlabel('$n$')\n",
        "plt.ylabel('$x(n)$')\n",
        "plt.ylim([-.1, 1.1])\n",
        "\n",
        "plt.subplot(1, 3, 2)\n",
        "plt.stem(abs(X))\n",
        "plt.xlabel('$\\omega$')\n",
        "plt.ylabel('$|X[\\omega]|$')\n",
        "\n",
        "plt.subplot(1, 3, 3)\n",
        "plt.stem(np.real(xr))\n",
        "plt.xlabel('$n$')\n",
        "plt.ylabel(r'$\\mathrm{IDFT}_N \\{X[\\omega]\\}$')\n",
        "plt.ylim([-.1, 1.1])\n",
        "plt.tight_layout()"
      ]
    },
    {
      "cell_type": "markdown",
      "metadata": {
        "id": "9qP8p9WT4ae6"
      },
      "source": [
        "#### Transformada de seno y coseno\n",
        "\n",
        "La DFT de $\\cos(\\omega_0 k)$ y $\\sin(\\omega_0 k)$ se obtiene expresando ambas como señales exponenciales complejas:\n",
        "\n",
        "\\begin{align}\n",
        "\\cos(\\omega_0 k) &= \\frac{1}{2} \\left(  e^{-j \\omega_0 k} + e^{j \\omega_0 k} \\right) \\\\\n",
        "\\sin(\\omega_0 k) &= \\frac{j}{2} \\left( e^{-j \\omega_0 k} - e^{j \\omega_0 k}  \\right)\n",
        "\\end{align}\n",
        "\n",
        "\n",
        "Para el caso especial de una señal coseno/seno periódica con $\\omega_0 = M \\frac{2 \\pi}{N}$, $M \\in \\mathbb{Z}$ las DFT se simplifican a\n",
        "\n",
        "\\begin{align}\n",
        "\\text{DFT}_N \\{ \\cos(\\omega_0 k) \\} &= \\frac{N}{2} \\left( \\delta[\\omega + M - N] + \\delta[\\mu - M] \\right) \\\\\n",
        "\\text{DFT}_N \\{ \\sin(\\omega_0 k) \\} &= \\frac{j N}{2} \\left( \\delta[\\omega + M - N] - \\delta[\\omega - M] \\right)\n",
        "\\end{align}\n"
      ]
    },
    {
      "cell_type": "markdown",
      "metadata": {
        "id": "WZW9XZ644ae8"
      },
      "source": [
        "**Ejemplo 2**\n",
        "\n",
        "La $\\text{DFT}_N \\{ \\cos(\\omega_0 k) \\}$ se calcula a partir de la definición, y en con el siguiente código se obtiene su espectro."
      ]
    },
    {
      "cell_type": "code",
      "execution_count": null,
      "metadata": {
        "colab": {
          "base_uri": "https://localhost:8080/",
          "height": 335
        },
        "id": "0P82NInm4ae9",
        "outputId": "38372772-b829-4c8e-efc2-fd256718c660"
      },
      "outputs": [
        {
          "output_type": "stream",
          "name": "stderr",
          "text": [
            "<ipython-input-35-96c051130501>:9: UserWarning: In Matplotlib 3.3 individual lines on a stem plot will be added as a LineCollection instead of individual lines. This significantly improves the performance of a stem plot. To remove this warning and switch to the new behaviour, set the \"use_line_collection\" keyword argument to True.\n",
            "  plt.stem(abs(X))\n"
          ]
        },
        {
          "output_type": "display_data",
          "data": {
            "text/plain": [
              "<Figure size 432x288 with 1 Axes>"
            ],
            "image/png": "[encoded data removed]"
          },
          "metadata": {
            "needs_background": "light"
          }
        }
      ],
      "source": [
        "M = 3.3\n",
        "N = 16\n",
        "n = np.arange(N)\n",
        "W0 = 3.3 * 2*np.pi/N\n",
        "x = np.cos(W0*n)\n",
        "F = dft(N)\n",
        "X = np.matmul(F, x)\n",
        "\n",
        "plt.stem(abs(X))\n",
        "plt.xlabel('$\\omega$')\n",
        "plt.ylabel(r'$|X[\\omega]|$');"
      ]
    },
    {
      "cell_type": "markdown",
      "metadata": {
        "nbsphinx": "hidden",
        "id": "SrCB7zgf4afF"
      },
      "source": [
        "**Copyright**\n",
        "\n",
        "Este cuaderno ha sido adaptado de:\n",
        "\n",
        "[Open Educational Resource](https://en.wikipedia.org/wiki/Open_educational_resources). Feel free to use the notebook for your own purposes. The text is licensed under [Creative Commons Attribution 4.0](https://creativecommons.org/licenses/by/4.0/), the code of the IPython examples under the [MIT license](https://opensource.org/licenses/MIT). Please attribute the work as follows: *Sascha Spors, Continuous- and Discrete-Time Signals and Systems - Theory and Computational Examples*."
      ]
    }
  ],
  "metadata": {
    "kernelspec": {
      "display_name": "Python 3",
      "language": "python",
      "name": "python3"
    },
    "language_info": {
      "codemirror_mode": {
        "name": "ipython",
        "version": 3
      },
      "file_extension": ".py",
      "mimetype": "text/x-python",
      "name": "python",
      "nbconvert_exporter": "python",
      "pygments_lexer": "ipython3",
      "version": "3.7.3"
    },
    "colab": {
      "provenance": [],
      "include_colab_link": true
    }
  },
  "nbformat": 4,
  "nbformat_minor": 0
}